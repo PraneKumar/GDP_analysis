{
 "cells": [
  {
   "cell_type": "code",
   "execution_count": null,
   "id": "9784bf06",
   "metadata": {
    "scrolled": false
   },
   "outputs": [],
   "source": [
    "import pandas as pd\n",
    "df=pd.read_csv('gdp.csv')\n",
    "df"
   ]
  },
  {
   "cell_type": "code",
   "execution_count": null,
   "id": "288e4c8e",
   "metadata": {},
   "outputs": [],
   "source": [
    "df['Country Name'].describe()"
   ]
  },
  {
   "cell_type": "code",
   "execution_count": null,
   "id": "6142e2d8",
   "metadata": {},
   "outputs": [],
   "source": [
    "df['Country Code'].describe()"
   ]
  },
  {
   "cell_type": "code",
   "execution_count": null,
   "id": "7bf59982",
   "metadata": {},
   "outputs": [],
   "source": [
    "df['Year'].min(),df['Year'].max(),"
   ]
  },
  {
   "cell_type": "code",
   "execution_count": null,
   "id": "15c53595",
   "metadata": {},
   "outputs": [],
   "source": [
    "df_pr=df[df['Country Name']=='Arab World']"
   ]
  },
  {
   "cell_type": "code",
   "execution_count": null,
   "id": "14bfea01",
   "metadata": {
    "scrolled": true
   },
   "outputs": [],
   "source": [
    "df_pr.plot(kind='line',x='Year',y='Value',title='Arab GDP',xlabel='GDP',ylabel='Year',grid=True,figsize=(15,6))"
   ]
  },
  {
   "cell_type": "code",
   "execution_count": null,
   "id": "90589c17",
   "metadata": {},
   "outputs": [],
   "source": [
    "data=df_pr.values#converting into array elements\n",
    "gdp_change=[0]\n",
    "for i in range(1,len(data)):\n",
    "    cur=data[i][3]\n",
    "    prev=data[i-1][3]\n",
    "    gdp_change.append(round(((cur-prev)/prev)*100,2))"
   ]
  },
  {
   "cell_type": "code",
   "execution_count": null,
   "id": "cda8c325",
   "metadata": {},
   "outputs": [],
   "source": [
    "#df_pr['GDP']=gdp_change\n",
    "df_pr.assign(GDP = gdp_change)"
   ]
  },
  {
   "cell_type": "code",
   "execution_count": null,
   "id": "0b25708d",
   "metadata": {},
   "outputs": [],
   "source": [
    "final_data=[]\n",
    "for country_name in df['Country Name'].unique():\n",
    "    df_pr=df[df['Country Name']==country_name]\n",
    "    data=df_pr.values\n",
    "    gdp_change=[0]\n",
    "    for i in range(1,len(data)):\n",
    "        cur=data[i][3]\n",
    "        prev=data[i-1][3]\n",
    "        gdp_change.append(round(((cur-prev)/prev)*100,2))\n",
    "    df_pr=df_pr.assign(GDP = gdp_change)\n",
    "    final_data.append(df_pr)\n",
    "df=pd.concat(final_data,axis=0)#concatinating multiple data sets to make single dataset "
   ]
  },
  {
   "cell_type": "code",
   "execution_count": null,
   "id": "022e7bc4",
   "metadata": {},
   "outputs": [],
   "source": [
    "df"
   ]
  },
  {
   "cell_type": "code",
   "execution_count": null,
   "id": "934857f6",
   "metadata": {},
   "outputs": [],
   "source": [
    "df.groupby('Country Name').max()['Value'].sort_values(ascending=False)#max country gdp"
   ]
  },
  {
   "cell_type": "code",
   "execution_count": null,
   "id": "68482974",
   "metadata": {},
   "outputs": [],
   "source": [
    "import plotly.express as px#for visualisation\n",
    "import plotly.offline as pyo#for offline graphs html format"
   ]
  },
  {
   "cell_type": "code",
   "execution_count": null,
   "id": "dd38ff30",
   "metadata": {},
   "outputs": [],
   "source": [
    "df"
   ]
  },
  {
   "cell_type": "code",
   "execution_count": null,
   "id": "01a61c8d",
   "metadata": {},
   "outputs": [],
   "source": [
    "df_pr=df[df['Country Name']=='World']"
   ]
  },
  {
   "cell_type": "code",
   "execution_count": null,
   "id": "ea191adb",
   "metadata": {},
   "outputs": [],
   "source": [
    "fig=px.line(df_pr,x='Year',y='Value',title='World GDP')\n",
    "fig"
   ]
  },
  {
   "cell_type": "code",
   "execution_count": null,
   "id": "57f2ac26",
   "metadata": {},
   "outputs": [],
   "source": [
    "pyo.plot(fig,filename='World GDP.html')"
   ]
  },
  {
   "cell_type": "code",
   "execution_count": null,
   "id": "16b5345d",
   "metadata": {},
   "outputs": [],
   "source": [
    "df_pr = df[df['Country Name'] == 'India']\n",
    "\n",
    "fig = px.line(df_pr, x = 'Year', y = 'Value', title = 'Indian GDP Analysis')\n",
    "\n",
    "\n",
    "pyo.plot(fig, filename = 'India.html')"
   ]
  },
  {
   "cell_type": "code",
   "execution_count": null,
   "id": "1b6bd434",
   "metadata": {},
   "outputs": [],
   "source": [
    "df_pr = df[df['Country Name'] == 'India']\n",
    "\n",
    "fig = px.line(df_pr, x = 'Year', y = 'Value', title = 'Indian GDP Analysis', range_y = [0, 4000000000000])\n",
    "\n",
    "fig"
   ]
  },
  {
   "cell_type": "code",
   "execution_count": null,
   "id": "1658a9a6",
   "metadata": {},
   "outputs": [],
   "source": [
    "import os"
   ]
  },
  {
   "cell_type": "code",
   "execution_count": null,
   "id": "90aa29a1",
   "metadata": {},
   "outputs": [],
   "source": [
    "os.mkdir('GDP Individual')#all countries gdp in single folder\n",
    "\n",
    "for country_name in df['Country Name'].unique():\n",
    "    \n",
    "    df_pr = df[df['Country Name'] == country_name]\n",
    "    fig = px.line(df_pr, x = 'Year', y = 'Value', title = country_name + ' GDP Analysis')\n",
    "    pyo.plot(fig, filename = 'GDP Individual/' + country_name + '.html',auto_open=False)"
   ]
  },
  {
   "cell_type": "code",
   "execution_count": null,
   "id": "d8c4fffe",
   "metadata": {},
   "outputs": [],
   "source": [
    "os.mkdir('GDP Individual WRT World')\n",
    "\n",
    "for country_name in df['Country Name'].unique():\n",
    "    \n",
    "    df_pr = df[df['Country Name'] == country_name]\n",
    "    fig = px.line(df_pr, x = 'Year', y = 'Value', title = country_name + ' GDP Analysis', range_y = [0,80000000000000])\n",
    "    pyo.plot(fig, filename = 'GDP Individual WRT World/' + country_name + '.html', auto_open = False)"
   ]
  },
  {
   "cell_type": "code",
   "execution_count": null,
   "id": "f2208312",
   "metadata": {},
   "outputs": [],
   "source": [
    "c1 = df[df['Country Name'] == 'China']\n",
    "c2 = df[df['Country Name'] == 'World']\n",
    "\n",
    "df_pr = pd.concat([c1,c2],axis = 0)\n",
    "\n",
    "fig = px.line(df_pr, x = 'Year', y = 'Value', title = 'GDP Comparison | World & China', color = 'Country Name')\n",
    "\n",
    "pyo.plot(fig, filename = 'WLD,CHN.html')"
   ]
  },
  {
   "cell_type": "code",
   "execution_count": null,
   "id": "12715152",
   "metadata": {},
   "outputs": [],
   "source": [
    "c1 = df[df['Country Name'] == 'China']\n",
    "c2 = df[df['Country Name'] == 'India']\n",
    "\n",
    "df_pr = pd.concat([c1,c2],axis = 0)\n",
    "\n",
    "fig = px.line(df_pr, x = 'Year', y = 'Value', title = 'GDP Comparison | World & China', color = 'Country Name')\n",
    "\n",
    "pyo.plot(fig, filename = 'IND,CHN.html')"
   ]
  },
  {
   "cell_type": "code",
   "execution_count": null,
   "id": "3cc116c0",
   "metadata": {},
   "outputs": [],
   "source": [
    "lst = ['IND','ITA', 'USA', 'CHN']\n",
    "\n",
    "dfs = []\n",
    "for i in lst:\n",
    "    dfs.append(df[df['Country Code'] == i])\n",
    "    \n",
    "    df_pr = pd.concat(dfs, axis = 0)"
   ]
  },
  {
   "cell_type": "code",
   "execution_count": null,
   "id": "462ba3d2",
   "metadata": {},
   "outputs": [],
   "source": [
    "fig = px.line(df_pr, x = 'Year', y = 'Value', title = 'GDP Comparison - ' + '|'.join(lst), color = 'Country Name')\n",
    "\n",
    "pyo.plot(fig, filename = ','.join(lst) + '.html')"
   ]
  },
  {
   "cell_type": "code",
   "execution_count": null,
   "id": "61c7194a",
   "metadata": {},
   "outputs": [],
   "source": [
    "def comare_gdp(lst, isOpen):\n",
    "    \n",
    "    dfs = []\n",
    "    for i in lst:\n",
    "        dfs.append(df[df['Country Code'] == i])\n",
    "\n",
    "        df_pr = pd.concat(dfs, axis = 0)\n",
    "        \n",
    "    fig = px.line(df_pr, x = 'Year', y = 'Value', title = 'GDP Comparison - ' + '|'.join(lst), \n",
    "                  color = 'Country Name')\n",
    "    pyo.plot(fig, filename = ','.join(lst) + '.html', auto_open = isOpen)"
   ]
  },
  {
   "cell_type": "code",
   "execution_count": null,
   "id": "7a118272",
   "metadata": {},
   "outputs": [],
   "source": [
    "comare_gdp(['IND','USA'], False)"
   ]
  },
  {
   "cell_type": "code",
   "execution_count": null,
   "id": "ba9edd6d",
   "metadata": {},
   "outputs": [],
   "source": [
    "dfs = []\n",
    "\n",
    "for country_name in df['Country Name'].unique():\n",
    "    df_pr = df[df['Country Name'] == country_name]\n",
    "    \n",
    "    if (len(df_pr) == 57):\n",
    "        dfs.append(df_pr)\n",
    "        \n",
    "df_pr = pd.concat(dfs, axis = 0)"
   ]
  },
  {
   "cell_type": "code",
   "execution_count": null,
   "id": "beb20816",
   "metadata": {},
   "outputs": [],
   "source": [
    "df_pr"
   ]
  },
  {
   "cell_type": "code",
   "execution_count": null,
   "id": "19b2a697",
   "metadata": {},
   "outputs": [],
   "source": [
    "fig = px.line(df_pr, x = 'Year', y = 'GDP', title = 'GDP Growth', color = 'Country Name')\n",
    "\n",
    "pyo.plot(fig, filename = 'GDP Growth.html', auto_open = True)"
   ]
  },
  {
   "cell_type": "code",
   "execution_count": null,
   "id": "6a15c984",
   "metadata": {},
   "outputs": [],
   "source": []
  }
 ],
 "metadata": {
  "kernelspec": {
   "display_name": "Python 3 (ipykernel)",
   "language": "python",
   "name": "python3"
  },
  "language_info": {
   "codemirror_mode": {
    "name": "ipython",
    "version": 3
   },
   "file_extension": ".py",
   "mimetype": "text/x-python",
   "name": "python",
   "nbconvert_exporter": "python",
   "pygments_lexer": "ipython3",
   "version": "3.9.12"
  }
 },
 "nbformat": 4,
 "nbformat_minor": 5
}
